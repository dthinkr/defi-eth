{
 "cells": [
  {
   "cell_type": "code",
   "execution_count": 1,
   "metadata": {},
   "outputs": [
    {
     "name": "stdout",
     "output_type": "stream",
     "text": [
      "shape: (5, 6)\n",
      "┌─────────────────────┬─────────────┬─────────────┬──────────────┬─────────────┬────────────┐\n",
      "│ unified_timestamp   ┆ ETH: Price  ┆ ETH:        ┆ Beacon Chain ┆ Smart       ┆ Exchange   │\n",
      "│ ---                 ┆ ---         ┆ Circulating ┆ Staking %    ┆ Contracts % ┆ Balances % │\n",
      "│ datetime[ns]        ┆ f64         ┆ Supply      ┆ ---          ┆ ---         ┆ ---        │\n",
      "│                     ┆             ┆ ---         ┆ f64          ┆ f64         ┆ f64        │\n",
      "│                     ┆             ┆ f64         ┆              ┆             ┆            │\n",
      "╞═════════════════════╪═════════════╪═════════════╪══════════════╪═════════════╪════════════╡\n",
      "│ 2024-08-01 15:00:00 ┆ 3232.466575 ┆ 1.1998e8    ┆ 3.3930e-7    ┆ 3.3081e-7   ┆ 8.5421e-8  │\n",
      "│ 2024-08-01 16:00:00 ┆ 3232.466575 ┆ 1.1998e8    ┆ 3.3930e-7    ┆ 3.3081e-7   ┆ 8.5421e-8  │\n",
      "│ 2024-08-01 17:00:00 ┆ 3232.466575 ┆ 1.1998e8    ┆ 3.3930e-7    ┆ 3.3081e-7   ┆ 8.5421e-8  │\n",
      "│ 2024-08-01 18:00:00 ┆ 3232.466575 ┆ 1.1998e8    ┆ 3.3930e-7    ┆ 3.3081e-7   ┆ 8.5421e-8  │\n",
      "│ 2024-08-01 19:00:00 ┆ 3232.466575 ┆ 1.1998e8    ┆ 3.3930e-7    ┆ 3.3081e-7   ┆ 8.5421e-8  │\n",
      "└─────────────────────┴─────────────┴─────────────┴──────────────┴─────────────┴────────────┘\n"
     ]
    }
   ],
   "source": [
    "import polars as pl\n",
    "import sys\n",
    "\n",
    "# Read the CSV file\n",
    "file_path = \"src/data/ethereum-supply-macro-distribution.csv\"\n",
    "df = pl.read_csv(file_path)\n",
    "\n",
    "# Process timestamps\n",
    "timestamp_cols = [col for col in df.columns if 'timestamp' in col.lower()]\n",
    "for col in timestamp_cols:\n",
    "    df = df.with_columns(pl.col(col).str.to_datetime(format='%Y-%m-%dT%H:%M:%S%.fZ', strict=False))\n",
    "\n",
    "df = df.with_columns(pl.coalesce(*[pl.col(col) for col in timestamp_cols]).alias('unified_timestamp'))\n",
    "df = df.drop(timestamp_cols).sort('unified_timestamp').filter(pl.col('unified_timestamp').is_not_null())\n",
    "\n",
    "# Select and process relevant columns\n",
    "df = df.select([\n",
    "    'unified_timestamp',\n",
    "    'ETH: Price',\n",
    "    'ETH: Circulating Supply',\n",
    "    'Beacon Chain Staking',\n",
    "    'Smart Contracts',\n",
    "    'Exchange Balances'\n",
    "]).fill_null(strategy='forward')\n",
    "\n",
    "# Convert all relevant columns to float\n",
    "df = df.with_columns([\n",
    "    pl.col('ETH: Price').cast(pl.Float64),\n",
    "    pl.col('ETH: Circulating Supply').cast(pl.Float64),\n",
    "    pl.col('Beacon Chain Staking').cast(pl.Float64),\n",
    "    pl.col('Smart Contracts').cast(pl.Float64),\n",
    "    pl.col('Exchange Balances').cast(pl.Float64)\n",
    "])\n",
    "\n",
    "# Calculate percentages\n",
    "df = df.with_columns([\n",
    "    (pl.col('Exchange Balances') * 100 / pl.col('ETH: Circulating Supply')).alias('Exchange Balances %'),\n",
    "    ((pl.col('Smart Contracts') - pl.col('Exchange Balances')) * 100 / pl.col('ETH: Circulating Supply')).alias('Smart Contracts %'),\n",
    "    ((pl.col('Beacon Chain Staking') - pl.col('Smart Contracts')) * 100 / pl.col('ETH: Circulating Supply')).alias('Beacon Chain Staking %')\n",
    "])\n",
    "\n",
    "# Select final columns\n",
    "df = df.select([\n",
    "    'unified_timestamp',\n",
    "    'ETH: Price',\n",
    "    'ETH: Circulating Supply',\n",
    "    'Beacon Chain Staking %',\n",
    "    'Smart Contracts %',\n",
    "    'Exchange Balances %'\n",
    "])\n",
    "\n",
    "# Output CSV to stdout\n",
    "# df.write_csv(sys.stdout)\n",
    "print(df.tail())"
   ]
  }
 ],
 "metadata": {
  "kernelspec": {
   "display_name": "Python 3",
   "language": "python",
   "name": "python3"
  },
  "language_info": {
   "codemirror_mode": {
    "name": "ipython",
    "version": 3
   },
   "file_extension": ".py",
   "mimetype": "text/x-python",
   "name": "python",
   "nbconvert_exporter": "python",
   "pygments_lexer": "ipython3",
   "version": "3.11.9"
  }
 },
 "nbformat": 4,
 "nbformat_minor": 2
}
